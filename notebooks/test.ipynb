{
 "cells": [
  {
   "cell_type": "code",
   "execution_count": 1,
   "metadata": {},
   "outputs": [
    {
     "data": {
      "application/javascript": [
       "IPython.OutputArea.prototype._should_scroll = function(lines) {\n",
       "    return false;  \n",
       "}\n"
      ],
      "text/plain": [
       "<IPython.core.display.Javascript object>"
      ]
     },
     "metadata": {},
     "output_type": "display_data"
    }
   ],
   "source": [
    "%%javascript\n",
    "IPython.OutputArea.prototype._should_scroll = function(lines) {\n",
    "    return false;  \n",
    "}"
   ]
  },
  {
   "cell_type": "code",
   "execution_count": 2,
   "metadata": {},
   "outputs": [],
   "source": [
    "import sys\n",
    "sys.path.append('/Users/af/Work/code/mcmc/build')\n",
    "#sys.path.append('/Users/af/Work/code/mcmc/debug')\n",
    "\n",
    "import mcmc\n",
    "#help(mcmc)\n",
    "import numpy as np\n",
    "import seaborn as sb\n",
    "import matplotlib.pyplot as plt"
   ]
  },
  {
   "cell_type": "code",
   "execution_count": 3,
   "metadata": {},
   "outputs": [],
   "source": [
    "def gauss_dist(x, mu=0, sigma=1):    \n",
    "    sigma = np.array(sigma)\n",
    "    mu = np.array(mu)\n",
    "    return 1/(np.multiply(sigma,np.sqrt(2*np.pi))) * np.exp(-(x-mu)**2/(2*sigma**2))\n",
    "\n",
    "\n",
    "def dg(x, alpha=0.5, mu_1=-3, sigma_1=1, mu_2=3, sigma_2=1):\n",
    "    return alpha*gauss_dist(x, mu_1,sigma_1 )+(1-alpha)*gauss_dist(x, mu_2,sigma_2 )\n",
    "\n",
    "\n",
    "def dist_andreas(x, alpha=5):\n",
    "    return np.exp(-(np.cos(-(x-alpha)+(-x+alpha)**2)-1)-0.1*(-x+alpha)**4)/6.90815481092748\n",
    "\n",
    "\n",
    "def my_sampling(nTrials, xmin, xmax, dist_true, **params):\n",
    "    \n",
    "    x = np.linspace(xmin, xmax, 3000)\n",
    "    max_dist = np.max(dist_true(x, **params))\n",
    "    \n",
    "    samplesTrial = xmin+(np.random.rand(nTrials)*(xmax-xmin))\n",
    "    #only accecpt samples with a random y-coord from [0..something larger than maximum of curve] under the curve\n",
    "    samples = samplesTrial[ 1.1*max_dist*np.random.rand(nTrials) < dist_true(samplesTrial, **params)]\n",
    "    \n",
    "    return samples, samplesTrial\n",
    "\n",
    "\n",
    "def true_dist(case=0):\n",
    "    if case==0:# Gaussian w. zero mean and 1 variance\n",
    "        dist = lambda x: gauss_dist(x, mu=0, sigma=1)\n",
    "        xmin = -5\n",
    "        xmax=5\n",
    "    if case==1: # Double Gaussian \n",
    "        dist = lambda x: dg(x, alpha=0.5, mu_1=-3, sigma_1=1, mu_2=3, sigma_2=1)\n",
    "        xmin = -8\n",
    "        xmax = 8\n",
    "    if case==2: # Andreas' dist\n",
    "        dist = lambda x: dist_andreas(x, alpha=5)\n",
    "        xmin=1\n",
    "        xmax=9\n",
    "    \n",
    "    return dist, xmin, xmax\n",
    "\n",
    "\n",
    "def generate_noisy_sample(N=1000, case_dist=0, case_err=0, seed=1234):\n",
    "    \n",
    "    \"\"\"\n",
    "    N : number of points\n",
    "    case_dist :  case for distribution of mass (x)\n",
    "                0 :: gaussian mu=0, sigma=1\n",
    "                1 :: double gaussian\n",
    "                2 :: Andreas' dist.\n",
    "\n",
    "    \"\"\"\n",
    "    np.random.seed(seed)   \n",
    "    \n",
    "    # Masses\n",
    "    f, xmin, xmax = true_dist(case_dist)\n",
    "    x, _ = my_sampling(5*N, xmin, xmax, f)\n",
    "    Nsamples = x.size\n",
    "    print('Got %s samples' %Nsamples)\n",
    "    \n",
    "    # Redshifts\n",
    "    z_min=1e-3\n",
    "    z_max=3\n",
    "    z = np.linspace(z_min, z_max, Nsamples)\n",
    "    \n",
    "    # Errors\n",
    "    if case_err==0: # quadratic\n",
    "        sigma = (z/z_max)**2\n",
    "    if case_err==1: # sqrt\n",
    "        sigma = (z/z_max)**(1/2)\n",
    "    \n",
    "    error = sigma*np.random.normal(size=Nsamples, loc=0, scale=1)\n",
    "    y = x + error\n",
    "    \n",
    "    return y, x, z, sigma, error"
   ]
  },
  {
   "cell_type": "code",
   "execution_count": 4,
   "metadata": {},
   "outputs": [
    {
     "name": "stdout",
     "output_type": "stream",
     "text": [
      "Got 5662 samples\n"
     ]
    }
   ],
   "source": [
    "y, x, z, sigma, error = generate_noisy_sample(N=5000, case_dist=0, case_err=0)\n",
    "\n",
    "\n",
    "\n",
    "\n",
    "\n"
   ]
  },
  {
   "cell_type": "code",
   "execution_count": 5,
   "metadata": {},
   "outputs": [
    {
     "data": {
      "image/png": "[encoded data removed]",
      "text/plain": [
       "<Figure size 432x288 with 1 Axes>"
      ]
     },
     "metadata": {
      "needs_background": "light"
     },
     "output_type": "display_data"
    }
   ],
   "source": [
    "x_1 = np.linspace(-5, 5, 500)\n",
    "plt.hist(x, 20, density=True, fill=False, edgecolor='red');\n",
    "plt.plot(x_1, true_dist(case=0)[0](x_1));\n"
   ]
  },
  {
   "cell_type": "code",
   "execution_count": 12,
   "metadata": {},
   "outputs": [
    {
     "name": "stdout",
     "output_type": "stream",
     "text": [
      "{'pdf': 0}\n"
     ]
    }
   ],
   "source": [
    "#t = mcmc.CoolingTarget(20.0)\n",
    "t = mcmc.SimpleTarget()\n",
    "state = mcmc.State()\n",
    "samples = mcmc.ProbabilityDistributionSamples(y, sigma)\n",
    "\n",
    "p = mcmc.PiecewiseConstantPDF(samples, -6,6,90)\n",
    "prior = mcmc.SmoothnessPrior(\"pdf\", 10, -6, 6)\n",
    "print(p.getNames())\n",
    "\n",
    "state.add(p)\n",
    "state.add(prior)\n",
    "\n",
    "t.set_posterior(state)\n",
    "\n",
    "c = mcmc.Chain(t, 0)\n",
    "#c.run(1,0,70,1)\n",
    "\n",
    "c.run(10000,500,500,1)\n",
    "#c.run(10,2,2,1)\n"
   ]
  },
  {
   "cell_type": "code",
   "execution_count": 13,
   "metadata": {},
   "outputs": [
    {
     "name": "stdout",
     "output_type": "stream",
     "text": [
      "[1. 1. 1. ... 1. 1. 1.]\n",
      "[-8517.782 -8517.782 -8517.782 ... -8542.167 -8542.167 -8542.167]\n"
     ]
    }
   ],
   "source": [
    "print(c.getWeights())\n",
    "print(c.getLoglikes())"
   ]
  },
  {
   "cell_type": "code",
   "execution_count": 14,
   "metadata": {},
   "outputs": [
    {
     "name": "stdout",
     "output_type": "stream",
     "text": [
      "(9999, 90)\n",
      "(90,)\n"
     ]
    },
    {
     "data": {
      "text/plain": [
       "[<matplotlib.lines.Line2D at 0x10f779400>]"
      ]
     },
     "execution_count": 14,
     "metadata": {},
     "output_type": "execute_result"
    },
    {
     "data": {
      "image/png": "[encoded data removed]",
      "text/plain": [
       "<Figure size 432x288 with 1 Axes>"
      ]
     },
     "metadata": {
      "needs_background": "light"
     },
     "output_type": "display_data"
    }
   ],
   "source": [
    "X = c.getSamples(\"pdf\")\n",
    "print(X.shape)\n",
    "meanx = np.mean(X, 0)\n",
    "print(meanx.shape)\n",
    "\n",
    "x_2 = np.linspace(-6, 6, meanx.shape[0])\n",
    "plt.hist(x, 20, density=True, fill=False, edgecolor='red');\n",
    "plt.plot(x_1, true_dist(case=0)[0](x_1));\n",
    "plt.plot(x_2, meanx)"
   ]
  },
  {
   "cell_type": "code",
   "execution_count": null,
   "metadata": {},
   "outputs": [],
   "source": [
    "X = c.getSamples(\"position\")\n",
    "\n",
    "\n",
    "weights = c.getWeights()\n",
    "\n",
    "\n",
    "# Extract x and y\n",
    "x = X[:, 0]\n",
    "y = X[:, 1]\n",
    "# Define the borders\n",
    "deltaX = (max(x) - min(x))/10\n",
    "deltaY = (max(y) - min(y))/10\n",
    "xmin = min(x) - deltaX\n",
    "xmax = max(x) + deltaX\n",
    "ymin = min(y) - deltaY\n",
    "ymax = max(y) + deltaY\n",
    "print(xmin, xmax, ymin, ymax)\n",
    "# Create meshgrid\n",
    "xx, yy = np.mgrid[xmin:xmax:100j, ymin:ymax:100j]\n",
    "\n",
    "import scipy.stats as st\n",
    "from sklearn.datasets.samples_generator import make_blobs\n",
    "\n",
    "positions = np.vstack([xx.ravel(), yy.ravel()])\n",
    "values = np.vstack([x, y])\n",
    "kernel = st.gaussian_kde(values)\n",
    "f = np.reshape(kernel(positions).T, xx.shape)\n",
    "\n",
    "\n",
    "\n",
    "fig = plt.figure(figsize=(8,8))\n",
    "ax = fig.gca()\n",
    "ax.set_xlim(xmin, xmax)\n",
    "ax.set_ylim(ymin, ymax)\n",
    "cfset = ax.contourf(xx, yy, f, cmap='coolwarm')\n",
    "ax.imshow(np.rot90(f), cmap='coolwarm', extent=[xmin, xmax, ymin, ymax])\n",
    "#cset = ax.contour(xx, yy, f, colors='k')\n",
    "#ax.clabel(cset, inline=1, fontsize=10)\n",
    "ax.set_xlabel('X')\n",
    "ax.set_ylabel('Y')\n",
    "plt.title('2D Gaussian Kernel density estimation')"
   ]
  },
  {
   "cell_type": "code",
   "execution_count": 45,
   "metadata": {},
   "outputs": [
    {
     "name": "stdout",
     "output_type": "stream",
     "text": [
      "[0.36787945 0.36787945 0.36787945 ... 0.36787945 0.36787945 0.36787945]\n"
     ]
    },
    {
     "data": {
      "text/plain": [
       "<matplotlib.colorbar.Colorbar at 0x1a20e06ef0>"
      ]
     },
     "execution_count": 45,
     "metadata": {},
     "output_type": "execute_result"
    },
    {
     "data": {
      "image/png": "[encoded data removed]",
      "text/plain": [
       "<Figure size 432x288 with 2 Axes>"
      ]
     },
     "metadata": {
      "needs_background": "light"
     },
     "output_type": "display_data"
    }
   ],
   "source": [
    "X = c.getSamples(\"position\")\n",
    "\n",
    "\n",
    "weights = c.getWeights()\n",
    "print(weights)\n",
    "\n",
    "\n",
    "# Extract x and y\n",
    "x = X[:, 0]\n",
    "y = X[:, 1]\n",
    "\n",
    "h =plt.hist2d(x, y, 40, weights = weights, cmin = 0)\n",
    "plt.colorbar(h[3])"
   ]
  },
  {
   "cell_type": "code",
   "execution_count": 29,
   "metadata": {},
   "outputs": [
    {
     "data": {
      "text/plain": [
       "[<matplotlib.lines.Line2D at 0x1a1fa60860>]"
      ]
     },
     "execution_count": 29,
     "metadata": {},
     "output_type": "execute_result"
    },
    {
     "data": {
      "image/png": "[encoded data removed]",
      "text/plain": [
       "<Figure size 432x288 with 1 Axes>"
      ]
     },
     "metadata": {
      "needs_background": "light"
     },
     "output_type": "display_data"
    }
   ],
   "source": [
    "plt.hist(x, bins=50,density=True,weights=weights)\n",
    "xc = np.linspace(-3,3,100)\n",
    "plt.plot(xc,np.exp(-(xc**2))/np.sqrt(2*np.pi*0.5))"
   ]
  },
  {
   "cell_type": "code",
   "execution_count": 41,
   "metadata": {},
   "outputs": [],
   "source": [
    "\n",
    "t = mcmc.SimpleTarget()\n",
    "t = mcmc.CoolingTarget(20)\n",
    "L = mcmc.MyLike1()\n",
    "state = mcmc.State()\n",
    "state.add(L)\n",
    "\n",
    "#samples = mcmc.ProbabilityDistributionSamples(y, sigma)\n",
    "#p = mcmc.PiecewiseConstantPDF(samples, -4,4,40)\n",
    "#s.add(p)\n",
    "t.set_posterior(state)\n",
    "\n",
    "c = mcmc.Chain(t, 0)\n",
    "#c.run(1,0,70,1)\n",
    "\n",
    "c.run(0,0,10000,1)\n",
    "\n"
   ]
  },
  {
   "cell_type": "code",
   "execution_count": 42,
   "metadata": {},
   "outputs": [
    {
     "data": {
      "text/plain": [
       "[<matplotlib.lines.Line2D at 0x1a20521b00>]"
      ]
     },
     "execution_count": 42,
     "metadata": {},
     "output_type": "execute_result"
    },
    {
     "data": {
      "image/png": "[encoded data removed]",
      "text/plain": [
       "<Figure size 432x288 with 1 Axes>"
      ]
     },
     "metadata": {
      "needs_background": "light"
     },
     "output_type": "display_data"
    }
   ],
   "source": [
    "plt.plot(c.getLoglikes())\n"
   ]
  },
  {
   "cell_type": "code",
   "execution_count": 9,
   "metadata": {},
   "outputs": [
    {
     "name": "stdout",
     "output_type": "stream",
     "text": [
      "Help on module mcmc:\n",
      "\n",
      "NAME\n",
      "    mcmc\n",
      "\n",
      "CLASSES\n",
      "    pybind11_builtins.pybind11_object(builtins.object)\n",
      "        Chain\n",
      "        ProbabilityDistributionSamples\n",
      "        SimpleTarget\n",
      "            CoolingTarget\n",
      "        State\n",
      "            MyState\n",
      "        SubspaceState\n",
      "            MyLike1\n",
      "            PiecewiseConstantPDF\n",
      "    \n",
      "    class Chain(pybind11_builtins.pybind11_object)\n",
      "     |  Method resolution order:\n",
      "     |      Chain\n",
      "     |      pybind11_builtins.pybind11_object\n",
      "     |      builtins.object\n",
      "     |  \n",
      "     |  Methods defined here:\n",
      "     |  \n",
      "     |  __init__(...)\n",
      "     |      __init__(self: mcmc.Chain, arg0: mcmc.SimpleTarget, arg1: int) -> None\n",
      "     |  \n",
      "     |  getLoglikes(...)\n",
      "     |      getLoglikes(self: mcmc.Chain) -> numpy.ndarray[float32]\n",
      "     |  \n",
      "     |  getSamples(...)\n",
      "     |      getSamples(self: mcmc.Chain, arg0: str) -> numpy.ndarray[float32]\n",
      "     |  \n",
      "     |  getWeights(...)\n",
      "     |      getWeights(self: mcmc.Chain) -> numpy.ndarray[float32]\n",
      "     |  \n",
      "     |  run(...)\n",
      "     |      run(self: mcmc.Chain, arg0: int, arg1: int, arg2: int, arg3: int) -> None\n",
      "     |  \n",
      "     |  ----------------------------------------------------------------------\n",
      "     |  Static methods inherited from pybind11_builtins.pybind11_object:\n",
      "     |  \n",
      "     |  __new__(*args, **kwargs) from pybind11_builtins.pybind11_type\n",
      "     |      Create and return a new object.  See help(type) for accurate signature.\n",
      "    \n",
      "    class CoolingTarget(SimpleTarget)\n",
      "     |  Method resolution order:\n",
      "     |      CoolingTarget\n",
      "     |      SimpleTarget\n",
      "     |      pybind11_builtins.pybind11_object\n",
      "     |      builtins.object\n",
      "     |  \n",
      "     |  Methods defined here:\n",
      "     |  \n",
      "     |  __init__(...)\n",
      "     |      __init__(self: mcmc.CoolingTarget, arg0: float) -> None\n",
      "     |  \n",
      "     |  ----------------------------------------------------------------------\n",
      "     |  Methods inherited from SimpleTarget:\n",
      "     |  \n",
      "     |  set_posterior(...)\n",
      "     |      set_posterior(self: mcmc.SimpleTarget, arg0: mcmc.State) -> None\n",
      "     |  \n",
      "     |  ----------------------------------------------------------------------\n",
      "     |  Static methods inherited from pybind11_builtins.pybind11_object:\n",
      "     |  \n",
      "     |  __new__(*args, **kwargs) from pybind11_builtins.pybind11_type\n",
      "     |      Create and return a new object.  See help(type) for accurate signature.\n",
      "    \n",
      "    class MyLike1(SubspaceState)\n",
      "     |  Method resolution order:\n",
      "     |      MyLike1\n",
      "     |      SubspaceState\n",
      "     |      pybind11_builtins.pybind11_object\n",
      "     |      builtins.object\n",
      "     |  \n",
      "     |  Methods defined here:\n",
      "     |  \n",
      "     |  __init__(...)\n",
      "     |      __init__(self: mcmc.MyLike1) -> None\n",
      "     |  \n",
      "     |  ----------------------------------------------------------------------\n",
      "     |  Methods inherited from SubspaceState:\n",
      "     |  \n",
      "     |  getNames(...)\n",
      "     |      getNames(self: mcmc.SubspaceState) -> Dict[str, int]\n",
      "     |  \n",
      "     |  ----------------------------------------------------------------------\n",
      "     |  Static methods inherited from pybind11_builtins.pybind11_object:\n",
      "     |  \n",
      "     |  __new__(*args, **kwargs) from pybind11_builtins.pybind11_type\n",
      "     |      Create and return a new object.  See help(type) for accurate signature.\n",
      "    \n",
      "    class MyState(State)\n",
      "     |  Method resolution order:\n",
      "     |      MyState\n",
      "     |      State\n",
      "     |      pybind11_builtins.pybind11_object\n",
      "     |      builtins.object\n",
      "     |  \n",
      "     |  Methods defined here:\n",
      "     |  \n",
      "     |  __init__(...)\n",
      "     |      __init__(self: mcmc.MyState) -> None\n",
      "     |  \n",
      "     |  ----------------------------------------------------------------------\n",
      "     |  Methods inherited from State:\n",
      "     |  \n",
      "     |  add(...)\n",
      "     |      add(self: mcmc.State, arg0: mcmc.SubspaceState) -> None\n",
      "     |  \n",
      "     |  init(...)\n",
      "     |      init(self: mcmc.State) -> None\n",
      "     |  \n",
      "     |  ----------------------------------------------------------------------\n",
      "     |  Data descriptors inherited from State:\n",
      "     |  \n",
      "     |  sharedDependencyMaxDepth\n",
      "     |  \n",
      "     |  ----------------------------------------------------------------------\n",
      "     |  Static methods inherited from pybind11_builtins.pybind11_object:\n",
      "     |  \n",
      "     |  __new__(*args, **kwargs) from pybind11_builtins.pybind11_type\n",
      "     |      Create and return a new object.  See help(type) for accurate signature.\n",
      "    \n",
      "    class PiecewiseConstantPDF(SubspaceState)\n",
      "     |  Method resolution order:\n",
      "     |      PiecewiseConstantPDF\n",
      "     |      SubspaceState\n",
      "     |      pybind11_builtins.pybind11_object\n",
      "     |      builtins.object\n",
      "     |  \n",
      "     |  Methods defined here:\n",
      "     |  \n",
      "     |  __init__(...)\n",
      "     |      __init__(self: mcmc.PiecewiseConstantPDF, arg0: mcmc.ProbabilityDistributionSamples, arg1: float, arg2: float, arg3: int) -> None\n",
      "     |  \n",
      "     |  ----------------------------------------------------------------------\n",
      "     |  Methods inherited from SubspaceState:\n",
      "     |  \n",
      "     |  getNames(...)\n",
      "     |      getNames(self: mcmc.SubspaceState) -> Dict[str, int]\n",
      "     |  \n",
      "     |  ----------------------------------------------------------------------\n",
      "     |  Static methods inherited from pybind11_builtins.pybind11_object:\n",
      "     |  \n",
      "     |  __new__(*args, **kwargs) from pybind11_builtins.pybind11_type\n",
      "     |      Create and return a new object.  See help(type) for accurate signature.\n",
      "    \n",
      "    class ProbabilityDistributionSamples(pybind11_builtins.pybind11_object)\n",
      "     |  Method resolution order:\n",
      "     |      ProbabilityDistributionSamples\n",
      "     |      pybind11_builtins.pybind11_object\n",
      "     |      builtins.object\n",
      "     |  \n",
      "     |  Methods defined here:\n",
      "     |  \n",
      "     |  __init__(...)\n",
      "     |      __init__(self: mcmc.ProbabilityDistributionSamples, arg0: numpy.ndarray[float32], arg1: numpy.ndarray[float32]) -> None\n",
      "     |  \n",
      "     |  ----------------------------------------------------------------------\n",
      "     |  Static methods inherited from pybind11_builtins.pybind11_object:\n",
      "     |  \n",
      "     |  __new__(*args, **kwargs) from pybind11_builtins.pybind11_type\n",
      "     |      Create and return a new object.  See help(type) for accurate signature.\n",
      "    \n",
      "    class SimpleTarget(pybind11_builtins.pybind11_object)\n",
      "     |  Method resolution order:\n",
      "     |      SimpleTarget\n",
      "     |      pybind11_builtins.pybind11_object\n",
      "     |      builtins.object\n",
      "     |  \n",
      "     |  Methods defined here:\n",
      "     |  \n",
      "     |  __init__(...)\n",
      "     |      __init__(self: mcmc.SimpleTarget) -> None\n",
      "     |  \n",
      "     |  set_posterior(...)\n",
      "     |      set_posterior(self: mcmc.SimpleTarget, arg0: mcmc.State) -> None\n",
      "     |  \n",
      "     |  ----------------------------------------------------------------------\n",
      "     |  Static methods inherited from pybind11_builtins.pybind11_object:\n",
      "     |  \n",
      "     |  __new__(*args, **kwargs) from pybind11_builtins.pybind11_type\n",
      "     |      Create and return a new object.  See help(type) for accurate signature.\n",
      "    \n",
      "    class State(pybind11_builtins.pybind11_object)\n",
      "     |  Method resolution order:\n",
      "     |      State\n",
      "     |      pybind11_builtins.pybind11_object\n",
      "     |      builtins.object\n",
      "     |  \n",
      "     |  Methods defined here:\n",
      "     |  \n",
      "     |  __init__(...)\n",
      "     |      __init__(self: mcmc.State) -> None\n",
      "     |  \n",
      "     |  add(...)\n",
      "     |      add(self: mcmc.State, arg0: mcmc.SubspaceState) -> None\n",
      "     |  \n",
      "     |  init(...)\n",
      "     |      init(self: mcmc.State) -> None\n",
      "     |  \n",
      "     |  ----------------------------------------------------------------------\n",
      "     |  Data descriptors defined here:\n",
      "     |  \n",
      "     |  sharedDependencyMaxDepth\n",
      "     |  \n",
      "     |  ----------------------------------------------------------------------\n",
      "     |  Static methods inherited from pybind11_builtins.pybind11_object:\n",
      "     |  \n",
      "     |  __new__(*args, **kwargs) from pybind11_builtins.pybind11_type\n",
      "     |      Create and return a new object.  See help(type) for accurate signature.\n",
      "    \n",
      "    class SubspaceState(pybind11_builtins.pybind11_object)\n",
      "     |  Method resolution order:\n",
      "     |      SubspaceState\n",
      "     |      pybind11_builtins.pybind11_object\n",
      "     |      builtins.object\n",
      "     |  \n",
      "     |  Methods defined here:\n",
      "     |  \n",
      "     |  __init__(self, /, *args, **kwargs)\n",
      "     |      Initialize self.  See help(type(self)) for accurate signature.\n",
      "     |  \n",
      "     |  getNames(...)\n",
      "     |      getNames(self: mcmc.SubspaceState) -> Dict[str, int]\n",
      "     |  \n",
      "     |  ----------------------------------------------------------------------\n",
      "     |  Static methods inherited from pybind11_builtins.pybind11_object:\n",
      "     |  \n",
      "     |  __new__(*args, **kwargs) from pybind11_builtins.pybind11_type\n",
      "     |      Create and return a new object.  See help(type) for accurate signature.\n",
      "\n",
      "FILE\n",
      "    /Users/af/Work/code/mcmc/build/mcmc.cpython-37m-darwin.so\n",
      "\n",
      "\n"
     ]
    }
   ],
   "source": [
    "help(mcmc)"
   ]
  },
  {
   "cell_type": "code",
   "execution_count": null,
   "metadata": {},
   "outputs": [],
   "source": []
  }
 ],
 "metadata": {
  "kernelspec": {
   "display_name": "Python 3",
   "language": "python",
   "name": "python3"
  },
  "language_info": {
   "codemirror_mode": {
    "name": "ipython",
    "version": 3
   },
   "file_extension": ".py",
   "mimetype": "text/x-python",
   "name": "python",
   "nbconvert_exporter": "python",
   "pygments_lexer": "ipython3",
   "version": "3.7.3"
  }
 },
 "nbformat": 4,
 "nbformat_minor": 2
}
