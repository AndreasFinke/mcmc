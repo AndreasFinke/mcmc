{
 "cells": [
  {
   "cell_type": "code",
   "execution_count": 1,
   "metadata": {},
   "outputs": [
    {
     "data": {
      "application/javascript": [
       "IPython.OutputArea.prototype._should_scroll = function(lines) {\n",
       "    return false;  \n",
       "}\n"
      ],
      "text/plain": [
       "<IPython.core.display.Javascript object>"
      ]
     },
     "metadata": {},
     "output_type": "display_data"
    }
   ],
   "source": [
    "%%javascript\n",
    "IPython.OutputArea.prototype._should_scroll = function(lines) {\n",
    "    return false;  \n",
    "}"
   ]
  },
  {
   "cell_type": "code",
   "execution_count": 2,
   "metadata": {},
   "outputs": [],
   "source": [
    "import sys\n",
    "sys.path.append('/Users/af/Work/code/mcmc/build')\n",
    "#sys.path.append('/Users/af/Work/code/mcmc/debug')\n",
    "\n",
    "import mcmc\n",
    "#help(mcmc)\n",
    "import numpy as np\n",
    "import seaborn as sb\n",
    "import matplotlib.pyplot as plt"
   ]
  },
  {
   "cell_type": "code",
   "execution_count": 3,
   "metadata": {},
   "outputs": [],
   "source": [
    "def gauss_dist(x, mu=0, sigma=1):    \n",
    "    sigma = np.array(sigma)\n",
    "    mu = np.array(mu)\n",
    "    return 1/(np.multiply(sigma,np.sqrt(2*np.pi))) * np.exp(-(x-mu)**2/(2*sigma**2))\n",
    "\n",
    "\n",
    "def dg(x, alpha=0.5, mu_1=-3, sigma_1=1, mu_2=3, sigma_2=1):\n",
    "    return alpha*gauss_dist(x, mu_1,sigma_1 )+(1-alpha)*gauss_dist(x, mu_2,sigma_2 )\n",
    "\n",
    "\n",
    "def dist_andreas(x, alpha=5):\n",
    "    return np.exp(-(np.cos(-(x-alpha)+(-x+alpha)**2)-1)-0.1*(-x+alpha)**4)/6.90815481092748\n",
    "\n",
    "\n",
    "def my_sampling(nTrials, xmin, xmax, dist_true, **params):\n",
    "    \n",
    "    x = np.linspace(xmin, xmax, 3000)\n",
    "    max_dist = np.max(dist_true(x, **params))\n",
    "    \n",
    "    samplesTrial = xmin+(np.random.rand(nTrials)*(xmax-xmin))\n",
    "    #only accecpt samples with a random y-coord from [0..something larger than maximum of curve] under the curve\n",
    "    samples = samplesTrial[ 1.1*max_dist*np.random.rand(nTrials) < dist_true(samplesTrial, **params)]\n",
    "    \n",
    "    return samples, samplesTrial\n",
    "\n",
    "\n",
    "def true_dist(case=0):\n",
    "    if case==0:# Gaussian w. zero mean and 1 variance\n",
    "        dist = lambda x: gauss_dist(x, mu=0, sigma=1)\n",
    "        xmin = -5\n",
    "        xmax=5\n",
    "    if case==1: # Double Gaussian \n",
    "        dist = lambda x: dg(x, alpha=0.5, mu_1=-3, sigma_1=1, mu_2=3, sigma_2=1)\n",
    "        xmin = -8\n",
    "        xmax = 8\n",
    "    if case==2: # Andreas' dist\n",
    "        dist = lambda x: dist_andreas(x, alpha=5)\n",
    "        xmin=1\n",
    "        xmax=9\n",
    "    \n",
    "    return dist, xmin, xmax\n",
    "\n",
    "\n",
    "def generate_noisy_sample(N=1000, case_dist=0, case_err=0, seed=1234):\n",
    "    \n",
    "    \"\"\"\n",
    "    N : number of points\n",
    "    case_dist :  case for distribution of mass (x)\n",
    "                0 :: gaussian mu=0, sigma=1\n",
    "                1 :: double gaussian\n",
    "                2 :: Andreas' dist.\n",
    "\n",
    "    \"\"\"\n",
    "    np.random.seed(seed)   \n",
    "    \n",
    "    # Masses\n",
    "    f, xmin, xmax = true_dist(case_dist)\n",
    "    x, _ = my_sampling(5*N, xmin, xmax, f)\n",
    "    Nsamples = x.size\n",
    "    print('Got %s samples' %Nsamples)\n",
    "    \n",
    "    # Redshifts\n",
    "    z_min=1e-3\n",
    "    z_max=3\n",
    "    z = np.linspace(z_min, z_max, Nsamples)\n",
    "    \n",
    "    # Errors\n",
    "    if case_err==0: # quadratic\n",
    "        sigma = (z/z_max)**2\n",
    "    if case_err==1: # sqrt\n",
    "        sigma = (z/z_max)**(1/2)\n",
    "    \n",
    "    error = sigma*np.random.normal(size=Nsamples, loc=0, scale=1)\n",
    "    y = x + error\n",
    "    \n",
    "    return y, x, z, sigma, error"
   ]
  },
  {
   "cell_type": "code",
   "execution_count": 36,
   "metadata": {},
   "outputs": [
    {
     "name": "stdout",
     "output_type": "stream",
     "text": [
      "Got 2079 samples\n"
     ]
    },
    {
     "data": {
      "image/png": "[encoded data removed]",
      "text/plain": [
       "<Figure size 432x288 with 1 Axes>"
      ]
     },
     "metadata": {
      "needs_background": "light"
     },
     "output_type": "display_data"
    }
   ],
   "source": [
    "case = 1\n",
    "\n",
    "\n",
    "y, x, z, sigma, error = generate_noisy_sample(N=1500, case_dist=case, case_err=0)\n",
    "\n",
    "\n",
    "x_1 = np.linspace(true_dist(case=case)[1], true_dist(case=case)[2], 500)\n",
    "plt.hist(x, 20, density=True, fill=False, edgecolor='red');\n",
    "plt.plot(x_1, true_dist(case=case)[0](x_1));\n",
    "\n",
    "\n",
    "\n"
   ]
  },
  {
   "cell_type": "code",
   "execution_count": 40,
   "metadata": {},
   "outputs": [
    {
     "name": "stdout",
     "output_type": "stream",
     "text": [
      "{'pdf': 0}\n"
     ]
    }
   ],
   "source": [
    "t = mcmc.CoolingTarget(2.5)\n",
    "#t = mcmc.SimpleTarget()\n",
    "state = mcmc.State()\n",
    "samples = mcmc.ProbabilityDistributionSamples(y, sigma)\n",
    "\n",
    "p = mcmc.PiecewiseConstantPDF(samples, true_dist(case=case)[1],true_dist(case=case)[2],50)\n",
    "\n",
    "nModes = 2\n",
    "p2 = mcmc.GaussianMixturePDF(samples, true_dist(case=case)[1],true_dist(case=case)[2], nModes)\n",
    "\n",
    "\n",
    "print(p.getNames())\n",
    "prior = mcmc.SmoothnessPrior(\"pdf\", 0.1, 2, 8)\n",
    "\n",
    "state.add(p)\n",
    "state.add(p2)\n",
    "state.add(prior)\n",
    "\n",
    "t.set_posterior(state)\n",
    "\n",
    "c = mcmc.Chain(t, 0)\n",
    "\n",
    "c.run(0,0,3000, 1)\n",
    "#c.run(1000000,5000,500,100)\n",
    "#c.run(10,0,20,1)\n"
   ]
  },
  {
   "cell_type": "code",
   "execution_count": 41,
   "metadata": {},
   "outputs": [
    {
     "name": "stdout",
     "output_type": "stream",
     "text": [
      "[-11499.651 -11287.971 -11205.445 ...  -9030.597  -9030.597  -9030.913]\n",
      "(2999, 2)\n",
      "[-4.  4.]\n"
     ]
    },
    {
     "ename": "IndexError",
     "evalue": "index 2 is out of bounds for axis 1 with size 2",
     "output_type": "error",
     "traceback": [
      "\u001b[0;31m---------------------------------------------------------------------------\u001b[0m",
      "\u001b[0;31mIndexError\u001b[0m                                Traceback (most recent call last)",
      "\u001b[0;32m<ipython-input-41-a23520c6b517>\u001b[0m in \u001b[0;36m<module>\u001b[0;34m\u001b[0m\n\u001b[1;32m      9\u001b[0m \u001b[0mplt\u001b[0m\u001b[0;34m.\u001b[0m\u001b[0mplot\u001b[0m\u001b[0;34m(\u001b[0m \u001b[0mmu\u001b[0m\u001b[0;34m[\u001b[0m\u001b[0;34m:\u001b[0m\u001b[0;34m,\u001b[0m\u001b[0;36m0\u001b[0m\u001b[0;34m]\u001b[0m \u001b[0;34m)\u001b[0m\u001b[0;34m\u001b[0m\u001b[0;34m\u001b[0m\u001b[0m\n\u001b[1;32m     10\u001b[0m \u001b[0mplt\u001b[0m\u001b[0;34m.\u001b[0m\u001b[0mplot\u001b[0m\u001b[0;34m(\u001b[0m \u001b[0mmu\u001b[0m\u001b[0;34m[\u001b[0m\u001b[0;34m:\u001b[0m\u001b[0;34m,\u001b[0m\u001b[0;36m1\u001b[0m\u001b[0;34m]\u001b[0m \u001b[0;34m)\u001b[0m\u001b[0;34m\u001b[0m\u001b[0;34m\u001b[0m\u001b[0m\n\u001b[0;32m---> 11\u001b[0;31m \u001b[0mplt\u001b[0m\u001b[0;34m.\u001b[0m\u001b[0mplot\u001b[0m\u001b[0;34m(\u001b[0m \u001b[0mmu\u001b[0m\u001b[0;34m[\u001b[0m\u001b[0;34m:\u001b[0m\u001b[0;34m,\u001b[0m\u001b[0;36m2\u001b[0m\u001b[0;34m]\u001b[0m \u001b[0;34m)\u001b[0m\u001b[0;34m\u001b[0m\u001b[0;34m\u001b[0m\u001b[0m\n\u001b[0m\u001b[1;32m     12\u001b[0m \u001b[0mplt\u001b[0m\u001b[0;34m.\u001b[0m\u001b[0mplot\u001b[0m\u001b[0;34m(\u001b[0m \u001b[0mmu\u001b[0m\u001b[0;34m[\u001b[0m\u001b[0;34m:\u001b[0m\u001b[0;34m,\u001b[0m\u001b[0;36m3\u001b[0m\u001b[0;34m]\u001b[0m \u001b[0;34m)\u001b[0m\u001b[0;34m\u001b[0m\u001b[0;34m\u001b[0m\u001b[0m\n\u001b[1;32m     13\u001b[0m \u001b[0mplt\u001b[0m\u001b[0;34m.\u001b[0m\u001b[0mshow\u001b[0m\u001b[0;34m(\u001b[0m\u001b[0;34m)\u001b[0m\u001b[0;34m\u001b[0m\u001b[0;34m\u001b[0m\u001b[0m\n",
      "\u001b[0;31mIndexError\u001b[0m: index 2 is out of bounds for axis 1 with size 2"
     ]
    },
    {
     "data": {
      "image/png": "[encoded data removed]",
      "text/plain": [
       "<Figure size 432x288 with 1 Axes>"
      ]
     },
     "metadata": {
      "needs_background": "light"
     },
     "output_type": "display_data"
    }
   ],
   "source": [
    "#print(c.getWeights())\n",
    "print(c.getLoglikes())\n",
    "#print(c.getSamples(\"A\"))\n",
    "mu = c.getSamples(\"mu\")\n",
    "A  = c.getSamples(\"A\")\n",
    "sig  = c.getSamples(\"sig\")\n",
    "print(mu.shape)\n",
    "print(mu[0,:])\n",
    "plt.plot( mu[:,0] )\n",
    "plt.plot( mu[:,1] )\n",
    "plt.plot( mu[:,2] )\n",
    "plt.plot( mu[:,3] )\n",
    "plt.show()\n",
    "plt.plot( A[:,0] )\n",
    "plt.plot( A[:,1] )\n",
    "plt.plot( A[:,2] )\n",
    "plt.plot( A[:,3] )\n",
    "plt.show()\n",
    "plt.plot( sig[:,0] )\n",
    "plt.plot( sig[:,1] )\n",
    "plt.plot( sig[:,2] )\n",
    "plt.plot( sig[:,3] )\n",
    "plt.show()\n",
    "plt.plot(c.getLoglikes())\n",
    "plt.show()\n",
    "\n",
    "plt.hist(c.getSamples(\"nNonzeroModes\"), density=True, bins=np.linspace(-0.5, nModes-0.5, nModes));"
   ]
  },
  {
   "cell_type": "code",
   "execution_count": 42,
   "metadata": {},
   "outputs": [
    {
     "name": "stdout",
     "output_type": "stream",
     "text": [
      "[[0.5 0.5]\n",
      " [0.5 0.5]\n",
      " [0.5 0.5]\n",
      " ...\n",
      " [0.5 0.5]\n",
      " [0.5 0.5]\n",
      " [0.5 0.5]]\n",
      "[[-4.         4.       ]\n",
      " [-4.         4.       ]\n",
      " [-4.         4.       ]\n",
      " ...\n",
      " [-3.0205815  2.9146848]\n",
      " [-3.0205815  2.9146848]\n",
      " [-3.0205815  2.9146848]]\n",
      "[[8.        8.       ]\n",
      " [8.        8.       ]\n",
      " [8.        8.       ]\n",
      " ...\n",
      " [1.0398177 0.9963124]\n",
      " [1.0398177 0.9963124]\n",
      " [1.0398177 0.9963124]]\n",
      "(2999, 2)\n",
      "[0.5 0.5]\n",
      "\n"
     ]
    },
    {
     "data": {
      "text/plain": [
       "[<matplotlib.lines.Line2D at 0x1a1ab540b8>]"
      ]
     },
     "execution_count": 42,
     "metadata": {},
     "output_type": "execute_result"
    },
    {
     "data": {
      "image/png": "[encoded data removed]",
      "text/plain": [
       "<Figure size 432x288 with 1 Axes>"
      ]
     },
     "metadata": {
      "needs_background": "light"
     },
     "output_type": "display_data"
    }
   ],
   "source": [
    "X = c.getSamples(\"pdf\")\n",
    "A = c.getSamples(\"A\")\n",
    "mu = c.getSamples(\"mu\")\n",
    "sig = c.getSamples(\"sig\")\n",
    "#A = c.getSamples(\"A\")[-1]\n",
    "#mu = c.getSamples(\"mu\")[-1]\n",
    "#sig = c.getSamples(\"sig\")[-1]\n",
    "print(A)\n",
    "print(mu)\n",
    "print(sig)\n",
    "print(mu.shape)\n",
    "\n",
    "mixture_mean = lambda x : np.mean(np.sum(A[np.newaxis, :,:]*np.exp(-(x[:,np.newaxis,np.newaxis]-mu[np.newaxis, :,:])**2/(2*sig[np.newaxis, :,:]**2))/(np.sqrt(2*np.pi)*sig[np.newaxis,:,:]),2),1)\n",
    "mixture_last = lambda x : np.sum(A[np.newaxis, -1,:]*np.exp(-(x[:,np.newaxis]-mu[np.newaxis, -1,:])**2/(2*sig[np.newaxis, -1,:]**2))/(np.sqrt(2*np.pi)*sig[np.newaxis,-1,:]),1)\n",
    "meanx = np.mean(X, 0)\n",
    "\n",
    "print(A[-1,:])\n",
    "print()\n",
    "\n",
    "x_2 = np.linspace(true_dist(case=case)[1], true_dist(case=case)[2], meanx.shape[0])\n",
    "plt.hist(x, 20, density=True, fill=False, edgecolor='red');\n",
    "plt.plot(x_1, true_dist(case=case)[0](x_1));\n",
    "plt.plot(x_2, meanx)\n",
    "plt.plot(x_1, mixture_last(x_1))\n",
    "\n",
    "\n"
   ]
  },
  {
   "cell_type": "code",
   "execution_count": 8,
   "metadata": {},
   "outputs": [
    {
     "ename": "IndexError",
     "evalue": "index 0 is out of bounds for axis 1 with size 0",
     "output_type": "error",
     "traceback": [
      "\u001b[0;31m---------------------------------------------------------------------------\u001b[0m",
      "\u001b[0;31mIndexError\u001b[0m                                Traceback (most recent call last)",
      "\u001b[0;32m<ipython-input-8-15cb317fc168>\u001b[0m in \u001b[0;36m<module>\u001b[0;34m\u001b[0m\n\u001b[1;32m      6\u001b[0m \u001b[0;34m\u001b[0m\u001b[0m\n\u001b[1;32m      7\u001b[0m \u001b[0;31m# Extract x and y\u001b[0m\u001b[0;34m\u001b[0m\u001b[0;34m\u001b[0m\u001b[0;34m\u001b[0m\u001b[0m\n\u001b[0;32m----> 8\u001b[0;31m \u001b[0mx\u001b[0m \u001b[0;34m=\u001b[0m \u001b[0mX\u001b[0m\u001b[0;34m[\u001b[0m\u001b[0;34m:\u001b[0m\u001b[0;34m,\u001b[0m \u001b[0;36m0\u001b[0m\u001b[0;34m]\u001b[0m\u001b[0;34m\u001b[0m\u001b[0;34m\u001b[0m\u001b[0m\n\u001b[0m\u001b[1;32m      9\u001b[0m \u001b[0my\u001b[0m \u001b[0;34m=\u001b[0m \u001b[0mX\u001b[0m\u001b[0;34m[\u001b[0m\u001b[0;34m:\u001b[0m\u001b[0;34m,\u001b[0m \u001b[0;36m1\u001b[0m\u001b[0;34m]\u001b[0m\u001b[0;34m\u001b[0m\u001b[0;34m\u001b[0m\u001b[0m\n\u001b[1;32m     10\u001b[0m \u001b[0;31m# Define the borders\u001b[0m\u001b[0;34m\u001b[0m\u001b[0;34m\u001b[0m\u001b[0;34m\u001b[0m\u001b[0m\n",
      "\u001b[0;31mIndexError\u001b[0m: index 0 is out of bounds for axis 1 with size 0"
     ]
    }
   ],
   "source": [
    "X = c.getSamples(\"position\")\n",
    "\n",
    "\n",
    "weights = c.getWeights()\n",
    "\n",
    "\n",
    "# Extract x and y\n",
    "x = X[:, 0]\n",
    "y = X[:, 1]\n",
    "# Define the borders\n",
    "deltaX = (max(x) - min(x))/10\n",
    "deltaY = (max(y) - min(y))/10\n",
    "xmin = min(x) - deltaX\n",
    "xmax = max(x) + deltaX\n",
    "ymin = min(y) - deltaY\n",
    "ymax = max(y) + deltaY\n",
    "print(xmin, xmax, ymin, ymax)\n",
    "# Create meshgrid\n",
    "xx, yy = np.mgrid[xmin:xmax:100j, ymin:ymax:100j]\n",
    "\n",
    "import scipy.stats as st\n",
    "from sklearn.datasets.samples_generator import make_blobs\n",
    "\n",
    "positions = np.vstack([xx.ravel(), yy.ravel()])\n",
    "values = np.vstack([x, y])\n",
    "kernel = st.gaussian_kde(values)\n",
    "f = np.reshape(kernel(positions).T, xx.shape)\n",
    "\n",
    "\n",
    "\n",
    "fig = plt.figure(figsize=(8,8))\n",
    "ax = fig.gca()\n",
    "ax.set_xlim(xmin, xmax)\n",
    "ax.set_ylim(ymin, ymax)\n",
    "cfset = ax.contourf(xx, yy, f, cmap='coolwarm')\n",
    "ax.imshow(np.rot90(f), cmap='coolwarm', extent=[xmin, xmax, ymin, ymax])\n",
    "#cset = ax.contour(xx, yy, f, colors='k')\n",
    "#ax.clabel(cset, inline=1, fontsize=10)\n",
    "ax.set_xlabel('X')\n",
    "ax.set_ylabel('Y')\n",
    "plt.title('2D Gaussian Kernel density estimation')"
   ]
  },
  {
   "cell_type": "code",
   "execution_count": null,
   "metadata": {},
   "outputs": [],
   "source": [
    "XY = c.getSamples(\"x and y\")\n",
    "\n",
    "print(XY.shape)\n",
    "\n",
    "weights = c.getWeights()\n",
    "print(weights.shape)\n",
    "\n",
    "\n",
    "# Extract x and y\n",
    "x = XY[:, 0]\n",
    "y = XY[:, 1]\n",
    "\n",
    "print(x)\n",
    "print(y)\n",
    "\n",
    "z = c.getSamples(\"z\")\n",
    "w = c.getSamples(\"w\")\n",
    "wsq = c.getSamples(\"wsq\")\n",
    "\n",
    "#h =plt.hist2d(x, y, 40, weights = weights, cmin = 0)\n",
    "#plt.colorbar(h[3])\n",
    "\n",
    "\n"
   ]
  },
  {
   "cell_type": "code",
   "execution_count": null,
   "metadata": {},
   "outputs": [],
   "source": [
    "plt.hist(z[:], bins=20,density=True,weights=weights[:])\n",
    "\n",
    "xc = np.linspace(-3,3,100)\n",
    "plt.plot(xc,np.exp(-(xc**2/2))/np.sqrt(2*np.pi))"
   ]
  },
  {
   "cell_type": "code",
   "execution_count": null,
   "metadata": {},
   "outputs": [],
   "source": [
    "\n",
    "t = mcmc.SimpleTarget()\n",
    "#t = mcmc.CoolingTarget(20)\n",
    "A = mcmc.A()\n",
    "B = mcmc.B()\n",
    "C = mcmc.C()\n",
    "D = mcmc.D()\n",
    "\n",
    "state = mcmc.State()\n",
    "state.sharedDependencyMaxDepth = 3\n",
    "\n",
    "state.add(A)\n",
    "state.add(B)\n",
    "state.add(C)\n",
    "state.add(D)\n",
    "\n",
    "#samples = mcmc.ProbabilityDistributionSamples(y, sigma)\n",
    "#p = mcmc.PiecewiseConstantPDF(samples, -4,4,40)\n",
    "#s.add(p)\n",
    "t.set_posterior(state)\n",
    "\n",
    "c = mcmc.Chain(t, 0)\n",
    "#c.run(1,0,70,1)\n",
    "\n",
    "c.run(100000,10000,10000,1)\n",
    "\n"
   ]
  },
  {
   "cell_type": "code",
   "execution_count": null,
   "metadata": {},
   "outputs": [],
   "source": [
    "plt.plot(c.getLoglikes())\n"
   ]
  },
  {
   "cell_type": "code",
   "execution_count": null,
   "metadata": {},
   "outputs": [],
   "source": [
    "help(mcmc)"
   ]
  },
  {
   "cell_type": "code",
   "execution_count": null,
   "metadata": {},
   "outputs": [],
   "source": []
  }
 ],
 "metadata": {
  "kernelspec": {
   "display_name": "Python 3",
   "language": "python",
   "name": "python3"
  },
  "language_info": {
   "codemirror_mode": {
    "name": "ipython",
    "version": 3
   },
   "file_extension": ".py",
   "mimetype": "text/x-python",
   "name": "python",
   "nbconvert_exporter": "python",
   "pygments_lexer": "ipython3",
   "version": "3.7.3"
  }
 },
 "nbformat": 4,
 "nbformat_minor": 2
}
